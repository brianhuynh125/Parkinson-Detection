{
 "cells": [
  {
   "cell_type": "code",
   "execution_count": 1,
   "id": "947e6092",
   "metadata": {},
   "outputs": [],
   "source": [
    "import parselmouth"
   ]
  },
  {
   "cell_type": "code",
   "execution_count": 2,
   "id": "891a55e6",
   "metadata": {},
   "outputs": [],
   "source": [
    "path = \"/Users/huynhnguyengiakhang/Documents/GitHub/Parkinson-Detection/rawdata/HC_AH/AH_064F_7AB034C9-72E4-438B-A9B3-AD7FDA1596C5.wav\""
   ]
  },
  {
   "cell_type": "code",
   "execution_count": 32,
   "id": "21d1941c",
   "metadata": {},
   "outputs": [],
   "source": [
    "snd = parselmouth.Sound(str(path))\n",
    "pitch = snd.to_pitch()"
   ]
  },
  {
   "cell_type": "code",
   "execution_count": 11,
   "id": "0917e113",
   "metadata": {},
   "outputs": [
    {
     "name": "stdout",
     "output_type": "stream",
     "text": [
      "Object type: Pitch\n",
      "Object name: <no name>\n",
      "Date: Wed Oct  8 16:35:31 2025\n",
      "\n",
      "Time domain:\n",
      "   Start time: 0 seconds\n",
      "   End time: 3.738875 seconds\n",
      "   Total duration: 3.738875 seconds\n",
      "Time sampling:\n",
      "   Number of frames: 370 (368 voiced)\n",
      "   Time step: 0.01 seconds\n",
      "   First frame centred at: 0.024437499999999997 seconds\n",
      "Ceiling at: 600 Hz\n",
      "\n",
      "Estimated quantiles:\n",
      "   10% = 129.331948 Hz = 116.155384 Mel = 4.45294442 semitones above 100 Hz = 3.75738299 ERB\n",
      "   16% = 129.66097 Hz = 116.421702 Mel = 4.49693131 semitones above 100 Hz = 3.76545919 ERB\n",
      "   50% = 131.209259 Hz = 117.673194 Mel = 4.70243432 semitones above 100 Hz = 3.80338059 ERB\n",
      "   84% = 134.376203 Hz = 120.224221 Mel = 5.11533204 semitones above 100 Hz = 3.88052371 ERB\n",
      "   90% = 135.375624 Hz = 121.026821 Mel = 5.24361588 semitones above 100 Hz = 3.90475147 ERB\n",
      "Estimated spreading:\n",
      "   84%-median = 3.171 Hz = 2.554 Mel = 0.4135 semitones = 0.07725 ERB\n",
      "   median-16% = 1.55 Hz = 1.253 Mel = 0.2058 semitones = 0.03797 ERB\n",
      "   90%-10% = 6.052 Hz = 4.878 Mel = 0.7917 semitones = 0.1476 ERB\n",
      "\n",
      "Minimum 128.12143 Hz = 115.174452 Mel = 4.29014165 semitones above 100 Hz = 3.72761606 ERB\n",
      "Maximum 157.677847 Hz = 138.638882 Mel = 7.88375981 semitones above 100 Hz = 4.43135277 ERB\n",
      "Range 29.56 Hz = 23.46443 Mel = 3.594 semitones = 0.7037 ERB\n",
      "Average: 132.013644 Hz = 118.314891 Mel = 4.80234997 semitones above 100 Hz = 3.82267764 ERB\n",
      "Standard deviation: 3.559 Hz = 2.842 Mel = 0.4456 semitones = 0.08554 ERB\n",
      "\n",
      "Mean absolute slope: 40.32 Hz/s = 32.43 Mel/s = 5.226 semitones/s = 0.98 ERB/s\n",
      "Mean absolute slope without octave jumps: 5.226 semitones/s\n",
      "\n"
     ]
    }
   ],
   "source": [
    "print(pitch)"
   ]
  },
  {
   "cell_type": "code",
   "execution_count": 50,
   "id": "e952254e",
   "metadata": {},
   "outputs": [
    {
     "data": {
      "text/plain": [
       "128.12142989957692"
      ]
     },
     "execution_count": 50,
     "metadata": {},
     "output_type": "execute_result"
    }
   ],
   "source": [
    "mean_pitch = parselmouth.praat.call(pitch, \"Get minimum\", 0, 0, \"Hertz\", \"None\")\n",
    "mean_pitch\n"
   ]
  },
  {
   "cell_type": "code",
   "execution_count": 51,
   "id": "9a00ebad",
   "metadata": {},
   "outputs": [
    {
     "name": "stdout",
     "output_type": "stream",
     "text": [
      "Object type: PointProcess\n",
      "Object name: untitled\n",
      "Date: Thu Oct  9 14:18:43 2025\n",
      "\n",
      "Time domain:\n",
      "   Start time: 0 seconds\n",
      "   End time: 3.738875 seconds\n",
      "   Total duration: 3.738875 seconds\n",
      "Number of times: 486\n",
      "First time: 0.04122329239975499 seconds\n",
      "Last time: 3.7153954558434044 seconds\n",
      "Periods between 0.1 ms and 20 ms (pitch between 50 and 10000 Hz),\n",
      "with a maximum \"period factor\" of 1.3:\n",
      "     Number of periods: 485\n",
      "     Mean period: 0.007575612708131237 seconds\n",
      "     Stdev period: 0.00019237277954875387 seconds\n",
      "     Jitter (local): 0.209%\n",
      "     Jitter (local, absolute): 15.855E-6 seconds\n",
      "     Jitter (rap): 0.044%\n",
      "     Jitter (ppq5): 0.104%\n",
      "     Jitter (ddp): 0.132%\n",
      "All periods:\n",
      "     Number of periods: 485\n",
      "     Mean period: 0.007575612708131237 seconds\n",
      "     Stdev period: 0.00019237277954875387 seconds\n",
      "     Jitter (local): 0.209291%\n",
      "     Jitter (local, absolute): 15.855095E-6 seconds\n",
      "     Jitter (rap): 0.043878%\n",
      "     Jitter (ppq5): 0.103787%\n",
      "     Jitter (ddp): 0.131633%\n",
      "\n"
     ]
    }
   ],
   "source": [
    "t = parselmouth.praat.call(pitch, \"To PointProcess\")\n",
    "print(t)"
   ]
  },
  {
   "cell_type": "code",
   "execution_count": 49,
   "id": "92d7d438",
   "metadata": {},
   "outputs": [
    {
     "data": {
      "text/plain": [
       "0.002092912623842554"
      ]
     },
     "execution_count": 49,
     "metadata": {},
     "output_type": "execute_result"
    }
   ],
   "source": [
    "jitter = parselmouth.praat.call(t, \"Get jitter (local)...\",0,0,0.0001,0.02,1.3)\n",
    "jitter"
   ]
  },
  {
   "cell_type": "code",
   "execution_count": 53,
   "id": "67d2b080",
   "metadata": {},
   "outputs": [],
   "source": [
    "shimmer_local = parselmouth.praat.call([snd, t], \"Get shimmer (local)\", 0, 0, 0.0001, 0.02, 1.3, 1.6)"
   ]
  },
  {
   "cell_type": "code",
   "execution_count": 54,
   "id": "aecaed66",
   "metadata": {},
   "outputs": [
    {
     "data": {
      "text/plain": [
       "0.041349366799761686"
      ]
     },
     "execution_count": 54,
     "metadata": {},
     "output_type": "execute_result"
    }
   ],
   "source": [
    "shimmer_local"
   ]
  },
  {
   "cell_type": "code",
   "execution_count": 55,
   "id": "8b2e6899",
   "metadata": {},
   "outputs": [
    {
     "name": "stdout",
     "output_type": "stream",
     "text": [
      "[<parselmouth.Sound object at 0x107308170>, <parselmouth.Data object at 0x107220770>]\n"
     ]
    }
   ],
   "source": [
    "print([snd, t])"
   ]
  },
  {
   "cell_type": "code",
   "execution_count": 75,
   "id": "0336f12b",
   "metadata": {},
   "outputs": [
    {
     "name": "stdout",
     "output_type": "stream",
     "text": [
      "Object type: Harmonicity\n",
      "Object name: untitled\n",
      "Date: Thu Oct  9 14:34:37 2025\n",
      "\n",
      "Time domain:\n",
      "   Start time: 0 seconds\n",
      "   End time: 3.738875 seconds\n",
      "   Total duration: 3.738875 seconds\n",
      "Time sampling:\n",
      "   Number of frames: 367 (367 sounding)\n",
      "   Time step: 0.01 seconds\n",
      "   First frame centred at: 0.03943750000000012 seconds\n",
      "Periodicity-to-noise ratios of sounding frames:\n",
      "   Median 16.2202834 dB\n",
      "   10 % = 11.768939 dB   90 %% = 20.1416104 dB\n",
      "   16 % = 12.8628802 dB   84 %% = 19.2149901 dB\n",
      "   25 % = 14.008954 dB   75 %% = 18.1257108 dB\n",
      "Minimum: 0.0389965071 dB\n",
      "Maximum: 24.0606449 dB\n",
      "Average: 15.8562223 dB\n",
      "Standard deviation: 3.67408907 dB\n",
      "\n",
      "15.856222316333485\n"
     ]
    }
   ],
   "source": [
    "har = parselmouth.praat.call(snd, \"To Harmonicity (cc)...\",0.01, 75,0.1,4.5)\n",
    "t = parselmouth.praat.call(har, \"Get mean...\",0,0)\n",
    "print(har)\n",
    "print(t)"
   ]
  },
  {
   "cell_type": "code",
   "execution_count": 76,
   "id": "c20ca026",
   "metadata": {},
   "outputs": [],
   "source": [
    "import librosa"
   ]
  },
  {
   "cell_type": "code",
   "execution_count": 77,
   "id": "05187129",
   "metadata": {},
   "outputs": [
    {
     "ename": "ParameterError",
     "evalue": "Input signal must be provided to compute a spectrogram",
     "output_type": "error",
     "traceback": [
      "\u001b[31m---------------------------------------------------------------------------\u001b[39m",
      "\u001b[31mParameterError\u001b[39m                            Traceback (most recent call last)",
      "\u001b[36mCell\u001b[39m\u001b[36m \u001b[39m\u001b[32mIn[77]\u001b[39m\u001b[32m, line 1\u001b[39m\n\u001b[32m----> \u001b[39m\u001b[32m1\u001b[39m mel = \u001b[43mlibrosa\u001b[49m\u001b[43m.\u001b[49m\u001b[43mfeature\u001b[49m\u001b[43m.\u001b[49m\u001b[43mmelspectrogram\u001b[49m\u001b[43m(\u001b[49m\u001b[43m)\u001b[49m\n",
      "\u001b[36mFile \u001b[39m\u001b[32m~/Documents/GitHub/Parkinson-Detection/.venv/lib/python3.11/site-packages/librosa/feature/spectral.py:2135\u001b[39m, in \u001b[36mmelspectrogram\u001b[39m\u001b[34m(y, sr, S, n_fft, hop_length, win_length, window, center, pad_mode, power, **kwargs)\u001b[39m\n\u001b[32m   2013\u001b[39m \u001b[38;5;28;01mdef\u001b[39;00m\u001b[38;5;250m \u001b[39m\u001b[34mmelspectrogram\u001b[39m(\n\u001b[32m   2014\u001b[39m     *,\n\u001b[32m   2015\u001b[39m     y: Optional[np.ndarray] = \u001b[38;5;28;01mNone\u001b[39;00m,\n\u001b[32m   (...)\u001b[39m\u001b[32m   2025\u001b[39m     **kwargs: Any,\n\u001b[32m   2026\u001b[39m ) -> np.ndarray:\n\u001b[32m   2027\u001b[39m \u001b[38;5;250m    \u001b[39m\u001b[33;03m\"\"\"Compute a mel-scaled spectrogram.\u001b[39;00m\n\u001b[32m   2028\u001b[39m \n\u001b[32m   2029\u001b[39m \u001b[33;03m    If a spectrogram input ``S`` is provided, then it is mapped directly onto\u001b[39;00m\n\u001b[32m   (...)\u001b[39m\u001b[32m   2133\u001b[39m \u001b[33;03m    >>> ax.set(title='Mel-frequency spectrogram')\u001b[39;00m\n\u001b[32m   2134\u001b[39m \u001b[33;03m    \"\"\"\u001b[39;00m\n\u001b[32m-> \u001b[39m\u001b[32m2135\u001b[39m     S, n_fft = \u001b[43m_spectrogram\u001b[49m\u001b[43m(\u001b[49m\n\u001b[32m   2136\u001b[39m \u001b[43m        \u001b[49m\u001b[43my\u001b[49m\u001b[43m=\u001b[49m\u001b[43my\u001b[49m\u001b[43m,\u001b[49m\n\u001b[32m   2137\u001b[39m \u001b[43m        \u001b[49m\u001b[43mS\u001b[49m\u001b[43m=\u001b[49m\u001b[43mS\u001b[49m\u001b[43m,\u001b[49m\n\u001b[32m   2138\u001b[39m \u001b[43m        \u001b[49m\u001b[43mn_fft\u001b[49m\u001b[43m=\u001b[49m\u001b[43mn_fft\u001b[49m\u001b[43m,\u001b[49m\n\u001b[32m   2139\u001b[39m \u001b[43m        \u001b[49m\u001b[43mhop_length\u001b[49m\u001b[43m=\u001b[49m\u001b[43mhop_length\u001b[49m\u001b[43m,\u001b[49m\n\u001b[32m   2140\u001b[39m \u001b[43m        \u001b[49m\u001b[43mpower\u001b[49m\u001b[43m=\u001b[49m\u001b[43mpower\u001b[49m\u001b[43m,\u001b[49m\n\u001b[32m   2141\u001b[39m \u001b[43m        \u001b[49m\u001b[43mwin_length\u001b[49m\u001b[43m=\u001b[49m\u001b[43mwin_length\u001b[49m\u001b[43m,\u001b[49m\n\u001b[32m   2142\u001b[39m \u001b[43m        \u001b[49m\u001b[43mwindow\u001b[49m\u001b[43m=\u001b[49m\u001b[43mwindow\u001b[49m\u001b[43m,\u001b[49m\n\u001b[32m   2143\u001b[39m \u001b[43m        \u001b[49m\u001b[43mcenter\u001b[49m\u001b[43m=\u001b[49m\u001b[43mcenter\u001b[49m\u001b[43m,\u001b[49m\n\u001b[32m   2144\u001b[39m \u001b[43m        \u001b[49m\u001b[43mpad_mode\u001b[49m\u001b[43m=\u001b[49m\u001b[43mpad_mode\u001b[49m\u001b[43m,\u001b[49m\n\u001b[32m   2145\u001b[39m \u001b[43m    \u001b[49m\u001b[43m)\u001b[49m\n\u001b[32m   2147\u001b[39m     \u001b[38;5;66;03m# Build a Mel filter\u001b[39;00m\n\u001b[32m   2148\u001b[39m     mel_basis = filters.mel(sr=sr, n_fft=n_fft, **kwargs)\n",
      "\u001b[36mFile \u001b[39m\u001b[32m~/Documents/GitHub/Parkinson-Detection/.venv/lib/python3.11/site-packages/librosa/core/spectrum.py:2940\u001b[39m, in \u001b[36m_spectrogram\u001b[39m\u001b[34m(y, S, n_fft, hop_length, power, win_length, window, center, pad_mode)\u001b[39m\n\u001b[32m   2938\u001b[39m         \u001b[38;5;28;01mraise\u001b[39;00m ParameterError(\u001b[33mf\u001b[39m\u001b[33m\"\u001b[39m\u001b[33mUnable to compute spectrogram with n_fft=\u001b[39m\u001b[38;5;132;01m{\u001b[39;00mn_fft\u001b[38;5;132;01m}\u001b[39;00m\u001b[33m\"\u001b[39m)\n\u001b[32m   2939\u001b[39m     \u001b[38;5;28;01mif\u001b[39;00m y \u001b[38;5;129;01mis\u001b[39;00m \u001b[38;5;28;01mNone\u001b[39;00m:\n\u001b[32m-> \u001b[39m\u001b[32m2940\u001b[39m         \u001b[38;5;28;01mraise\u001b[39;00m ParameterError(\n\u001b[32m   2941\u001b[39m             \u001b[33m\"\u001b[39m\u001b[33mInput signal must be provided to compute a spectrogram\u001b[39m\u001b[33m\"\u001b[39m\n\u001b[32m   2942\u001b[39m         )\n\u001b[32m   2943\u001b[39m     S = (\n\u001b[32m   2944\u001b[39m         np.abs(\n\u001b[32m   2945\u001b[39m             stft(\n\u001b[32m   (...)\u001b[39m\u001b[32m   2955\u001b[39m         ** power\n\u001b[32m   2956\u001b[39m     )\n\u001b[32m   2958\u001b[39m \u001b[38;5;28;01mreturn\u001b[39;00m S, n_fft\n",
      "\u001b[31mParameterError\u001b[39m: Input signal must be provided to compute a spectrogram"
     ]
    }
   ],
   "source": [
    "mel = librosa.feature.melspectrogram()"
   ]
  },
  {
   "cell_type": "code",
   "execution_count": 7,
   "id": "fccd79b1",
   "metadata": {},
   "outputs": [],
   "source": [
    "from dataprocessing import *"
   ]
  },
  {
   "cell_type": "code",
   "execution_count": null,
   "id": "482a5e3d",
   "metadata": {},
   "outputs": [
    {
     "name": "stdout",
     "output_type": "stream",
     "text": [
      "Spec: torch.Size([8, 1, 224, 224]) Acoustics: torch.Size([8, 6]) Labels: torch.Size([8])\n"
     ]
    },
    {
     "ename": "NameError",
     "evalue": "name 'labels' is not defined",
     "output_type": "error",
     "traceback": [
      "\u001b[31m---------------------------------------------------------------------------\u001b[39m",
      "\u001b[31mNameError\u001b[39m                                 Traceback (most recent call last)",
      "\u001b[36mCell\u001b[39m\u001b[36m \u001b[39m\u001b[32mIn[9]\u001b[39m\u001b[32m, line 16\u001b[39m\n\u001b[32m      6\u001b[39m     \u001b[38;5;28;01mbreak\u001b[39;00m\n\u001b[32m      8\u001b[39m \u001b[38;5;28;01mfor\u001b[39;00m spec, acoustics, label \u001b[38;5;129;01min\u001b[39;00m val_loader:\n\u001b[32m      9\u001b[39m                 \u001b[38;5;66;03m# out = model(spec.to(device)).cpu().squeeze()\u001b[39;00m\n\u001b[32m     10\u001b[39m                 \u001b[38;5;66;03m# out_np = out.numpy().ravel()  # flatten to always 1D\u001b[39;00m\n\u001b[32m   (...)\u001b[39m\u001b[32m     14\u001b[39m                 \u001b[38;5;66;03m# # probs.extend(out_np.tolist())\u001b[39;00m\n\u001b[32m     15\u001b[39m                 \u001b[38;5;66;03m# preds.extend((out_np > 0.5).astype(int).tolist())\u001b[39;00m\n\u001b[32m---> \u001b[39m\u001b[32m16\u001b[39m                 \u001b[43mlabels\u001b[49m.extend(label.numpy().ravel().tolist())\n",
      "\u001b[31mNameError\u001b[39m: name 'labels' is not defined"
     ]
    }
   ],
   "source": [
    "df = pd.read_csv('dataset_manifest.csv')\n",
    "train_loader, val_loader = make_loaders(df, kfold_idx=0, batch_size=8)\n",
    "\n",
    "for spec, acoustics, label in train_loader:\n",
    "    print(\"Spec:\", spec.shape, \"Acoustics:\", acoustics.shape, \"Labels:\", label.shape)\n",
    "    break\n",
    "labels = []\n",
    "for spec, acoustics, label in val_loader:\n",
    "                # out = model(spec.to(device)).cpu().squeeze()\n",
    "                # out_np = out.numpy().ravel()  # flatten to always 1D\n",
    "                # logits = model(spec.to(device)).cpu().squeeze()\n",
    "                # probs = torch.sigmoid(logits).numpy().ravel()\n",
    "                # preds = (probs > 0.5).astype(int)\n",
    "                # # probs.extend(out_np.tolist())\n",
    "                # preds.extend((out_np > 0.5).astype(int).tolist())\n",
    "                labels.extend(label.numpy().ravel().tolist())"
   ]
  }
 ],
 "metadata": {
  "kernelspec": {
   "display_name": ".venv",
   "language": "python",
   "name": "python3"
  },
  "language_info": {
   "codemirror_mode": {
    "name": "ipython",
    "version": 3
   },
   "file_extension": ".py",
   "mimetype": "text/x-python",
   "name": "python",
   "nbconvert_exporter": "python",
   "pygments_lexer": "ipython3",
   "version": "3.11.2"
  }
 },
 "nbformat": 4,
 "nbformat_minor": 5
}
